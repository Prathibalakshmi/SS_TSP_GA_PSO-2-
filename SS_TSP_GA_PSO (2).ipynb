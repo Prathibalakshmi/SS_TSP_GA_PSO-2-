{
 "cells": [
  {
   "cell_type": "markdown",
   "metadata": {},
   "source": [
    "# <center>Optimisation - II</center>\n",
    "### <center>Stochastic Search, GA and PSO</center>"
   ]
  },
  {
   "cell_type": "code",
   "execution_count": 99,
   "metadata": {},
   "outputs": [
    {
     "name": "stdout",
     "output_type": "stream",
     "text": [
      "Using matplotlib backend: MacOSX\n"
     ]
    }
   ],
   "source": [
    "%matplotlib \n",
    "import numpy as np\n",
    "import matplotlib.pyplot as plt"
   ]
  },
  {
   "cell_type": "markdown",
   "metadata": {},
   "source": [
    "## Stochastic Search"
   ]
  },
  {
   "cell_type": "markdown",
   "metadata": {},
   "source": [
    "#### Objective function\n",
    "\n",
    "$$ maximize \\space\\space\n",
    "Z(x,y) = 1.7*exp\\bigg[-\\bigg\\{\\dfrac{{(x-3)}^2}{10}+\\dfrac{{(y-3)}^2}{10}\\bigg\\}\\bigg]+\n",
    "exp\\bigg[-\\bigg\\{\\dfrac{{(x+5)}^2}{8}+\\dfrac{{(y+5)}^2}{8}\\bigg\\}\\bigg] +\\\\ 2*exp\\bigg[-\\bigg\\{\\dfrac{{x}^2}{4}+\\dfrac{{y}^2}{5}\\bigg\\}\\bigg] +\n",
    "1.5*exp\\bigg[-\\bigg\\{\\dfrac{{(x-4)}^2}{18}+\\dfrac{{(y+4)}^2}{16}\\bigg\\}\\bigg]+\\\\\n",
    "1.2*exp\\bigg[-\\bigg\\{\\dfrac{{(x+4)}^2}{18}+\\dfrac{{(y-4)}^2}{16}\\bigg\\}\\bigg]\n",
    "$$"
   ]
  },
  {
   "cell_type": "code",
   "execution_count": 100,
   "metadata": {},
   "outputs": [],
   "source": [
    "def objective_function(x,y):\n",
    "    z=1.7*np.exp(-(((x-3)**2)/10+((y-3)**2)/10))+np.exp(-(((x+5)**2)/8+((y+5)**2)/8))+2*np.exp(-(((x)**2)/4+((y)**2)/5))+1.5*np.exp(-(((x-4)**2)/18+(y+4)**2/16))+1.2*np.exp(-(((x+4)**2)/18+((y-4)**2)/16))\n",
    "    return z"
   ]
  },
  {
   "cell_type": "code",
   "execution_count": 101,
   "metadata": {},
   "outputs": [],
   "source": [
    "def initialise(Xmin,Xmax,popsize):\n",
    "    x = np.random.uniform(low=Xmin[0],high=Xmax[0],size=(popsize,1))\n",
    "    y = np.random.uniform(low=Xmin[1],high=Xmax[1],size=(popsize,1))\n",
    "    return np.hstack((x,y))"
   ]
  },
  {
   "cell_type": "code",
   "execution_count": 102,
   "metadata": {},
   "outputs": [],
   "source": [
    "def NRRI(Xmin,Xmax,nrri):\n",
    "    x = np.random.uniform(low=Xmin[0],high=Xmax[0],size=(nrri,1))\n",
    "    y = np.random.uniform(low=Xmin[1],high=Xmax[1],size=(nrri,1))\n",
    "    return np.hstack((x,y))"
   ]
  },
  {
   "cell_type": "code",
   "execution_count": 103,
   "metadata": {},
   "outputs": [],
   "source": [
    "def NRLC(data, nrlc, k=10):    ## Selecting parents using tournment selection method\n",
    "    data_nrlc = np.empty((nrlc,2))\n",
    "    for i in range(nrlc):\n",
    "        rand_idx1 = np.random.choice(len(data),k,replace=False)\n",
    "        rand_idx2 = np.random.choice(len(data),k,replace=False)\n",
    "        tournament_1 = data[rand_idx1]\n",
    "        tournament_2 = data[rand_idx2]\n",
    "        y_tournament_1 = np.array([objective_function(x,y) for x,y in zip(tournament_1[:,0],tournament_1[:,1])])\n",
    "        y_tournament_2 = np.array([objective_function(x,y) for x,y in zip(tournament_2[:,0],tournament_2[:,1])])\n",
    "        p1 = np.argmax(y_tournament_1)\n",
    "        p2 = np.argmax(y_tournament_2)\n",
    "        eta = np.random.rand()\n",
    "        data_nrlc[i,0] = data[p1,0]*eta + (1-eta)*data[p2,0]\n",
    "        data_nrlc[i,1] = data[p1,1]*eta + (1-eta)*data[p2,1]\n",
    "    return data_nrlc"
   ]
  },
  {
   "cell_type": "code",
   "execution_count": 104,
   "metadata": {},
   "outputs": [],
   "source": [
    "def contour_plot(objective_function,Xmin,Xmax,data,itr):\n",
    "    xx = np.linspace(Xmin[0],Xmax[0],100)\n",
    "    yy = np.linspace(Xmin[1],Xmax[1],100)\n",
    "    XX,YY = np.meshgrid(xx,yy)\n",
    "    ZZ = np.empty((100,100))\n",
    "    for i in range(100):\n",
    "        for j in range(100):\n",
    "            ZZ[i,j] = objective_function(XX[i,j],YY[i,j])\n",
    "\n",
    "    fig, ax = plt.subplots(figsize=(8,6))\n",
    "    cp = ax.contour(XX,YY,ZZ)\n",
    "    fig.colorbar(cp)\n",
    "    ax.scatter(data[:,0],data[:,1],s=10,color='red')\n",
    "    ax.set_title('Stochastic Search - Iteration:{}'.format(itr+1))\n",
    "    ax.set_xlabel('x-axis')\n",
    "    ax.set_ylabel('y-axis')\n",
    "    plt.show()\n",
    "    plt.pause(1)\n",
    "    plt.clf()"
   ]
  },
  {
   "cell_type": "code",
   "execution_count": 105,
   "metadata": {},
   "outputs": [],
   "source": [
    "def stochastic_search(Xmin,Xmax,popsize=100,rho=0.5,nrri=50,nrlc=50,maxitr=10):\n",
    "    data = initialise(Xmin,Xmax,popsize)\n",
    "\n",
    "    for itr in range(maxitr):\n",
    "        data_new = data.copy()\n",
    "        f = np.array([objective_function(x,y) for x,y in zip(data[:,0],data[:,1])])\n",
    "        u = f - min(f)\n",
    "        num_child = (u*popsize/sum(u)).astype(int)\n",
    "        for i in range(popsize):\n",
    "            data_child = np.empty((num_child[i],2))\n",
    "            for j in range(num_child[i]):\n",
    "                theta = np.random.uniform(-np.pi,np.pi)\n",
    "                radius = np.random.uniform(0,rho)\n",
    "                data_child[j,0] = data[i,0] + radius*np.cos(theta)\n",
    "                data_child[j,1] = data[i,1] + radius*np.sin(theta)\n",
    "            \n",
    "            data_new = np.append(data_new,data_child,axis=0)\n",
    "        \n",
    "        data_nrri = NRRI(Xmin,Xmax,nrri)\n",
    "        data_new = np.append(data_new,data_nrri,axis=0)\n",
    "        data_nrlc = NRLC(data,nrlc)\n",
    "        data_new = np.append(data_new,data_nrlc,axis=0)\n",
    "\n",
    "        f = np.array([objective_function(x,y) for x,y in zip(data_new[:,0],data_new[:,1])])\n",
    "        sort_index = np.argsort(f)[::-1]   ## convert it in descending order\n",
    "        data_new = data_new[sort_index]\n",
    "\n",
    "        contour_plot(objective_function,Xmin,Xmax,data,itr)\n",
    "        data = data_new[:popsize]\n",
    "    plt.close('all')\n",
    "    return data[0], f[0]"
   ]
  },
  {
   "cell_type": "code",
   "execution_count": 106,
   "metadata": {},
   "outputs": [
    {
     "name": "stdout",
     "output_type": "stream",
     "text": [
      "Best Solution:[0.21007484 0.21686314]\n",
      "Best Functional Value:2.725931888128\n"
     ]
    }
   ],
   "source": [
    "Xmin = np.array([-10,-10])\n",
    "Xmax = np.array([10,10])\n",
    "\n",
    "X_best,y_best = stochastic_search(Xmin,Xmax,popsize=100,rho=0.5,maxitr=10,nrri=30,nrlc=40)\n",
    "print(\"Best Solution:{}\".format(X_best))\n",
    "print(\"Best Functional Value:{}\".format(y_best))"
   ]
  },
  {
   "cell_type": "markdown",
   "metadata": {},
   "source": [
    "## Solution: Travelling Salesman Problem using Stochastic Search"
   ]
  },
  {
   "cell_type": "code",
   "execution_count": 107,
   "metadata": {},
   "outputs": [
    {
     "name": "stdout",
     "output_type": "stream",
     "text": [
      "[[  0.  83.  93. 129. 133. 139. 151. 169. 135. 114. 110.  98.  99.  95.\n",
      "   81. 152. 159. 181. 172. 185. 147. 157. 185. 220. 127. 181.]\n",
      " [ 83.   0.  40.  53.  62.  64.  91. 116.  93.  84.  95.  98.  89.  68.\n",
      "   67. 127. 156. 175. 152. 165. 160. 180. 223. 268. 179. 197.]\n",
      " [ 93.  40.   0.  42.  42.  49.  59.  81.  54.  44.  58.  64.  54.  31.\n",
      "   36.  86. 117. 135. 112. 125. 124. 147. 193. 241. 157. 161.]\n",
      " [129.  53.  42.   0.  11.  11.  46.  72.  65.  70.  88. 100.  89.  66.\n",
      "   76. 102. 142. 156. 127. 139. 155. 180. 228. 278. 197. 190.]\n",
      " [133.  62.  42.  11.   0.   9.  35.  61.  55.  62.  82.  95.  84.  62.\n",
      "   74.  93. 133. 146. 117. 128. 148. 173. 222. 272. 194. 182.]\n",
      " [139.  64.  49.  11.   9.   0.  39.  65.  63.  71.  90. 103.  92.  71.\n",
      "   82. 100. 141. 153. 124. 135. 156. 181. 230. 280. 202. 190.]\n",
      " [151.  91.  59.  46.  35.  39.   0.  26.  34.  52.  71.  88.  77.  63.\n",
      "   78.  66. 110. 119.  88.  98. 130. 156. 206. 257. 188. 160.]\n",
      " [169. 116.  81.  72.  61.  65.  26.   0.  37.  59.  75.  92.  83.  76.\n",
      "   91.  54.  98. 103.  70.  78. 122. 148. 198. 250. 188. 148.]\n",
      " [135.  93.  54.  65.  55.  63.  34.  37.   0.  22.  39.  56.  47.  40.\n",
      "   55.  37.  78.  91.  62.  74.  96. 122. 172. 223. 155. 128.]\n",
      " [114.  84.  44.  70.  62.  71.  52.  59.  22.   0.  20.  36.  26.  20.\n",
      "   34.  43.  74.  91.  68.  82.  86. 111. 160. 210. 136. 121.]\n",
      " [110.  95.  58.  88.  82.  90.  71.  75.  39.  20.   0.  18.  11.  27.\n",
      "   32.  42.  61.  80.  64.  77.  68.  92. 140. 190. 116. 103.]\n",
      " [ 98.  98.  64. 100.  95. 103.  88.  92.  56.  36.  18.   0.  11.  34.\n",
      "   31.  56.  63.  85.  75.  87.  62.  83. 129. 178. 100.  99.]\n",
      " [ 99.  89.  54.  89.  84.  92.  77.  83.  47.  26.  11.  11.   0.  23.\n",
      "   24.  53.  68.  89.  74.  87.  71.  93. 140. 189. 111. 107.]\n",
      " [ 95.  68.  31.  66.  62.  71.  63.  76.  40.  20.  27.  34.  23.   0.\n",
      "   15.  62.  87. 106.  87. 100.  93. 116. 163. 212. 132. 130.]\n",
      " [ 81.  67.  36.  76.  74.  82.  78.  91.  55.  34.  32.  31.  24.  15.\n",
      "    0.  73.  92. 112.  96. 109.  93. 113. 158. 205. 122. 130.]\n",
      " [152. 127.  86. 102.  93. 100.  66.  54.  37.  43.  42.  56.  53.  62.\n",
      "   73.   0.  44.  54.  26.  39.  68.  94. 144. 196. 139.  95.]\n",
      " [159. 156. 117. 142. 133. 141. 110.  98.  78.  74.  61.  63.  68.  87.\n",
      "   92.  44.   0.  22.  34.  38.  30.  53. 102. 154. 109.  51.]\n",
      " [181. 175. 135. 156. 146. 153. 119. 103.  91.  91.  80.  85.  89. 106.\n",
      "  112.  54.  22.   0.  33.  29.  46.  64. 107. 157. 125.  51.]\n",
      " [172. 152. 112. 127. 117. 124.  88.  70.  62.  68.  64.  75.  74.  87.\n",
      "   96.  26.  34.  33.   0.  13.  63.  87. 135. 186. 141.  81.]\n",
      " [185. 165. 125. 139. 128. 135.  98.  78.  74.  82.  77.  87.  87. 100.\n",
      "  109.  39.  38.  29.  13.   0.  68.  90. 136. 186. 148.  79.]\n",
      " [147. 160. 124. 155. 148. 156. 130. 122.  96.  86.  68.  62.  71.  93.\n",
      "   93.  68.  30.  46.  63.  68.   0.  26.  77. 128.  80.  37.]\n",
      " [157. 180. 147. 180. 173. 181. 156. 148. 122. 111.  92.  83.  93. 116.\n",
      "  113.  94.  53.  64.  87.  90.  26.   0.  50. 102.  65.  27.]\n",
      " [185. 223. 193. 228. 222. 230. 206. 198. 172. 160. 140. 129. 140. 163.\n",
      "  158. 144. 102. 107. 135. 136.  77.  50.   0.  51.  64.  58.]\n",
      " [220. 268. 241. 278. 272. 280. 257. 250. 223. 210. 190. 178. 189. 212.\n",
      "  205. 196. 154. 157. 186. 186. 128. 102.  51.   0.  93. 107.]\n",
      " [127. 179. 157. 197. 194. 202. 188. 188. 155. 136. 116. 100. 111. 132.\n",
      "  122. 139. 109. 125. 141. 148.  80.  65.  64.  93.   0.  90.]\n",
      " [181. 197. 161. 190. 182. 190. 160. 148. 128. 121. 103.  99. 107. 130.\n",
      "  130.  95.  51.  51.  81.  79.  37.  27.  58. 107.  90.   0.]]\n"
     ]
    }
   ],
   "source": [
    "dist_matr = np.genfromtxt('dist_matr.csv',delimiter=',')\n",
    "print(dist_matr)"
   ]
  },
  {
   "cell_type": "code",
   "execution_count": 108,
   "metadata": {},
   "outputs": [
    {
     "name": "stdout",
     "output_type": "stream",
     "text": [
      "(26, 26)\n"
     ]
    }
   ],
   "source": [
    "print(dist_matr.shape)"
   ]
  },
  {
   "cell_type": "code",
   "execution_count": 109,
   "metadata": {},
   "outputs": [
    {
     "name": "stdout",
     "output_type": "stream",
     "text": [
      "True\n"
     ]
    }
   ],
   "source": [
    "print((dist_matr == dist_matr.T).all())"
   ]
  },
  {
   "cell_type": "markdown",
   "metadata": {},
   "source": [
    "### Define the Distance function"
   ]
  },
  {
   "cell_type": "code",
   "execution_count": 110,
   "metadata": {},
   "outputs": [],
   "source": [
    "def dist_func(path, dist_matr):\n",
    "    total_distance = 0\n",
    "    i = 0\n",
    "    for j in path:\n",
    "        total_distance += dist_matr[j,i]\n",
    "        i = j\n",
    "    total_distance += dist_matr[i,0]\n",
    "    return total_distance"
   ]
  },
  {
   "cell_type": "markdown",
   "metadata": {},
   "source": [
    "### Function to swap two elements"
   ]
  },
  {
   "cell_type": "code",
   "execution_count": 111,
   "metadata": {},
   "outputs": [],
   "source": [
    "def swap(x):\n",
    "    sample_idx = np.random.choice(len(x),2,replace=False)\n",
    "    x[sample_idx[0]], x[sample_idx[1]] = x[sample_idx[1]], x[sample_idx[0]]\n",
    "    return x"
   ]
  },
  {
   "cell_type": "markdown",
   "metadata": {},
   "source": [
    "### Initialize Population"
   ]
  },
  {
   "cell_type": "code",
   "execution_count": 112,
   "metadata": {},
   "outputs": [],
   "source": [
    "def init_pop(path, popsize):\n",
    "    population = []\n",
    "    for i in range(popsize):\n",
    "        new = np.random.permutation(path)\n",
    "        population.append(new)\n",
    "    return np.matrix(population)"
   ]
  },
  {
   "cell_type": "markdown",
   "metadata": {},
   "source": [
    "### Random re-initialize points"
   ]
  },
  {
   "cell_type": "code",
   "execution_count": 113,
   "metadata": {},
   "outputs": [],
   "source": [
    "def rrI(arr, nrri):\n",
    "    rri = []\n",
    "    for i in range(nrri):\n",
    "        new = np.random.permutation(arr)\n",
    "        rri.append(new)\n",
    "    return np.matrix(rri)"
   ]
  },
  {
   "cell_type": "markdown",
   "metadata": {},
   "source": [
    "### Main function for Optimum path"
   ]
  },
  {
   "cell_type": "code",
   "execution_count": 114,
   "metadata": {},
   "outputs": [],
   "source": [
    "def Optimum_path(path, dist_matr, popsize=100, nrri=30, maxitr=10):\n",
    "    population = init_pop(path, popsize)\n",
    "\n",
    "    for itr in range(maxitr):\n",
    "        y_arr = np.array([dist_func(np.ravel(row), dist_matr) for row in population])\n",
    "        u_arr = y_arr - np.min(y_arr)\n",
    "        child_num = (u_arr*popsize/np.sum(u_arr)).astype(int)\n",
    "        child_arr = []\n",
    "        for i in range(popsize):\n",
    "            x = np.ravel(population[i,:])\n",
    "            for j in range(child_num[i]):\n",
    "                c = swap(x)\n",
    "                child_arr.append(c)\n",
    "        \n",
    "        child_mat = np.matrix(child_arr)\n",
    "        rri = rrI(path, nrri)\n",
    "\n",
    "        total_pop = np.vstack((population,child_mat,rri))\n",
    "        y_arr = np.array([dist_func(np.ravel(row), dist_matr) for row in total_pop])\n",
    "\n",
    "        sorted_idx = np.argsort(y_arr)\n",
    "        useful_idx = sorted_idx[:popsize]\n",
    "        y_arr_sorted = y_arr[sorted_idx][:popsize]\n",
    "        # print(\"Iteration: {}\".format(itr+1))\n",
    "        # print(\"Best Path till now is {}\".format(total_pop[useful_idx[0]]))\n",
    "        # print(\"Best Distance till now is {}\".format(y_arr[useful_idx[0]]))\n",
    "        poplist = []\n",
    "        for i in range(len(useful_idx)):\n",
    "            idx = useful_idx[i]\n",
    "            popmember = np.ravel(total_pop[idx,:])\n",
    "            poplist.append(popmember)\n",
    "        population = np.matrix(poplist)\n",
    "    return np.ravel(population[0]), y_arr_sorted[0]"
   ]
  },
  {
   "cell_type": "code",
   "execution_count": 115,
   "metadata": {},
   "outputs": [
    {
     "data": {
      "text/plain": [
       "array([ 1,  2,  3,  4,  5,  6,  7,  8,  9, 10, 11, 12, 13, 14, 15, 16, 17,\n",
       "       18, 19, 20, 21, 22, 23, 24, 25])"
      ]
     },
     "execution_count": 115,
     "metadata": {},
     "output_type": "execute_result"
    }
   ],
   "source": [
    "path = np.arange(1,26)\n",
    "path"
   ]
  },
  {
   "cell_type": "code",
   "execution_count": 116,
   "metadata": {},
   "outputs": [
    {
     "data": {
      "text/plain": [
       "(array([24, 22, 23, 20, 25, 21, 17, 15, 14, 10,  1,  2,  3,  4,  5,  7,  6,\n",
       "        12, 11, 13,  8, 19, 18,  9, 16]),\n",
       " 1495.0)"
      ]
     },
     "execution_count": 116,
     "metadata": {},
     "output_type": "execute_result"
    }
   ],
   "source": [
    "Optimum_path(path,dist_matr,popsize=500,nrri=100,maxitr=500)"
   ]
  },
  {
   "cell_type": "code",
   "execution_count": 117,
   "metadata": {},
   "outputs": [
    {
     "name": "stdout",
     "output_type": "stream",
     "text": [
      "The minimum distance path is:\n",
      "0->24->23->22->25->21->20->16->17->19->18->15->10->11->12->14->13->9->8->7->6->4->5->3->2->1->0\n",
      "Minimum possible distance is 937.0\n"
     ]
    }
   ],
   "source": [
    "## Optimum route for this distance matrix\n",
    "ans = np.array([24,23,22,25,21,20,16,17,19,18,15,10,11,12,14,13,9,8,7,6,4,5,3,2,1])\n",
    "print(\"The minimum distance path is:\")\n",
    "print(str(0)+\"->\",end=\"\")\n",
    "for i in range(len(ans)):\n",
    "    print(str(ans[i])+\"->\",end=\"\")\n",
    "print(str(0))\n",
    "print(\"Minimum possible distance is {}\".format(dist_func(ans,dist_matr)))"
   ]
  },
  {
   "cell_type": "code",
   "execution_count": 121,
   "metadata": {},
   "outputs": [],
   "source": [
    "from sklearn.manifold import MDS #Multi-dimensional scaling\n",
    "model = MDS(n_components=2,dissimilarity='precomputed',random_state=1)\n",
    "out = model.fit_transform(dist_matr)\n",
    "\n",
    "n = np.arange(26)\n",
    "x = out[:,0]\n",
    "y = out[:,1]\n",
    "fig,ax = plt.subplots(figsize=(10,8))\n",
    "ax.scatter(x,y)\n",
    "ax.arrow(x[0],y[0],x[ans[0]]-x[0],y[ans[0]]-y[0])\n",
    "for i,txt in enumerate(n):\n",
    "    if(i<24):\n",
    "        ax.arrow(x[ans[i]],y[ans[i]],x[ans[i+1]]-x[ans[i]],y[ans[i+1]]-y[ans[i]])\n",
    "    ax.annotate(txt,(x[i],y[i]))\n",
    "plt.title(\"TSP Solution\")\n",
    "plt.show()"
   ]
  },
  {
   "cell_type": "markdown",
   "metadata": {},
   "source": [
    "## Genetic Algorithm"
   ]
  },
  {
   "cell_type": "markdown",
   "metadata": {},
   "source": [
    "### Define Objective Function"
   ]
  },
  {
   "cell_type": "code",
   "execution_count": 21,
   "metadata": {},
   "outputs": [],
   "source": [
    "# Objective function for optimization\n",
    "def obj_function(x,y):  # Ackley's Function\n",
    "    z = -20* np.exp(-0.2* np.sqrt(0.5* (x**2 + y**2))) - np.exp(0.5* (np.cos(2* np.pi* x) + (np.cos(2* np.pi* y)))) + np.exp(1) + 20\n",
    "    return z"
   ]
  },
  {
   "cell_type": "markdown",
   "metadata": {},
   "source": [
    "### Initialise the Population"
   ]
  },
  {
   "cell_type": "code",
   "execution_count": 22,
   "metadata": {},
   "outputs": [],
   "source": [
    "def initialise(Xmin,Xmax,popsize):\n",
    "    x = np.random.uniform(low=Xmin[0],high=Xmax[0],size=(popsize,1))\n",
    "    y = np.random.uniform(low=Xmin[1],high=Xmax[1],size=(popsize,1))\n",
    "    return np.hstack((x,y))"
   ]
  },
  {
   "cell_type": "code",
   "execution_count": 23,
   "metadata": {},
   "outputs": [],
   "source": [
    "def decimal_to_binary(n:int) -> str:\n",
    "    return bin(n)[2:]"
   ]
  },
  {
   "cell_type": "code",
   "execution_count": 24,
   "metadata": {},
   "outputs": [],
   "source": [
    "def binary_to_decimal(n:str) -> int:\n",
    "    if n.startswith('b'):\n",
    "        return -int(n[1:],base=2)\n",
    "    else:\n",
    "        return int(n, base=2)"
   ]
  },
  {
   "cell_type": "code",
   "execution_count": 57,
   "metadata": {},
   "outputs": [],
   "source": [
    "def pad_zeros(bin1:str, bin2:str):\n",
    "    flag1=False; flag2=False;\n",
    "    if bin1.startswith('b'):\n",
    "        bin1 = bin1[1:]\n",
    "        flag1 = True\n",
    "    if bin2.startswith('b'):\n",
    "        bin2 = bin2[1:]\n",
    "        flag2 = True\n",
    "    m = len(bin1)\n",
    "    n = len(bin2)\n",
    "    if m != n:\n",
    "        if m > n:\n",
    "            bin2 = bin2.rjust(m, '0')\n",
    "        else:\n",
    "            bin1 = bin1.rjust(n, '0')\n",
    "    if flag1 == True:\n",
    "        bin1 = 'b'+bin1\n",
    "    if flag2 == True:\n",
    "        bin2 = 'b'+bin2\n",
    "    return bin1, bin2"
   ]
  },
  {
   "cell_type": "markdown",
   "metadata": {},
   "source": [
    "### Crossover between two parents"
   ]
  },
  {
   "cell_type": "code",
   "execution_count": 58,
   "metadata": {},
   "outputs": [],
   "source": [
    "def crossover(bin1:str, bin2:str):\n",
    "    flag1=False; flag2=False;\n",
    "    if bin1.startswith('b'):\n",
    "        bin1 = bin1[1:]\n",
    "        flag1=True\n",
    "    if bin2.startswith('b'):\n",
    "        bin2 = bin2[1:]\n",
    "        flag2=True\n",
    "    rand_idx = np.random.choice(len(bin1))\n",
    "    mod_bin1 = bin1[:rand_idx] + bin2[rand_idx:]\n",
    "    mod_bin2 = bin2[:rand_idx] + bin1[rand_idx:]\n",
    "    if flag1 == True:\n",
    "        mod_bin1 = 'b'+mod_bin1\n",
    "    if flag2 == True:\n",
    "        mod_bin2 = 'b'+mod_bin2\n",
    "    return mod_bin1, mod_bin2"
   ]
  },
  {
   "cell_type": "markdown",
   "metadata": {},
   "source": [
    "### Mutation of a point"
   ]
  },
  {
   "cell_type": "code",
   "execution_count": 59,
   "metadata": {},
   "outputs": [],
   "source": [
    "def mutation(bin1:str) -> str:\n",
    "    flag = False\n",
    "    if bin1.startswith('b'):\n",
    "        bin1 = bin1[1:]\n",
    "        flag = True\n",
    "    bin1 = list(bin1)\n",
    "    rand_idx = np.random.choice(len(bin1))\n",
    "    if bin1[rand_idx] == '1':\n",
    "        bin1[rand_idx] = '0'\n",
    "    else :\n",
    "        bin1[rand_idx] = '1'\n",
    "    if flag == True:\n",
    "        return 'b'+\"\".join(bin1)\n",
    "    else:\n",
    "        return \"\".join(bin1)"
   ]
  },
  {
   "cell_type": "markdown",
   "metadata": {},
   "source": [
    "### Get children after Crossover"
   ]
  },
  {
   "cell_type": "code",
   "execution_count": 64,
   "metadata": {},
   "outputs": [],
   "source": [
    "def get_children_crossover(S, ncross):\n",
    "    S_cross = []\n",
    "    while len(S_cross) < ncross:\n",
    "        idx1, idx2 = np.random.choice(len(S), 2, replace=False)\n",
    "        p1, p2 = S[idx1], S[idx2]\n",
    "        rand_dim = np.random.choice([0,1])\n",
    "        el1, el2 = p1[rand_dim], p2[rand_dim]\n",
    "        bin1, bin2 = decimal_to_binary(int(el1*100)), decimal_to_binary(int(el2*100))\n",
    "        bin1, bin2 = pad_zeros(bin1, bin2)\n",
    "        child1, child2 = crossover(bin1, bin2)\n",
    "        dec1, dec2 = binary_to_decimal(child1)/100, binary_to_decimal(child2)/100\n",
    "        if rand_dim == 0: \n",
    "            S_cross.append(np.array([dec1, p1[1]]))\n",
    "            S_cross.append(np.array([dec2, p2[1]]))\n",
    "        else:\n",
    "            S_cross.append(np.array([p1[0], dec1]))\n",
    "            S_cross.append(np.array([p2[0], dec2]))\n",
    "    S_cross = np.array(S_cross)\n",
    "    return S_cross"
   ]
  },
  {
   "cell_type": "markdown",
   "metadata": {},
   "source": [
    "### Get children after Mutation"
   ]
  },
  {
   "cell_type": "code",
   "execution_count": 68,
   "metadata": {},
   "outputs": [],
   "source": [
    "def get_child_mutation(S, nmut):\n",
    "    S_mut = []\n",
    "    indx_ls = np.random.choice(len(S),nmut,replace=False)\n",
    "    for i in range(nmut):\n",
    "        p = S[indx_ls[i]]\n",
    "        rand_dim = np.random.choice([0,1])\n",
    "        if rand_dim == 0:\n",
    "            el = int(p[0]*100)\n",
    "            bin1 = decimal_to_binary(el)\n",
    "            child = mutation(bin1)\n",
    "            dec1 = binary_to_decimal(child)\n",
    "            p1 = np.array([dec1,p[1]])\n",
    "        else:\n",
    "            el = int(p[1]*100)\n",
    "            bin1 = decimal_to_binary(el)\n",
    "            child = mutation(bin1)\n",
    "            dec1 = binary_to_decimal(child)\n",
    "            p1 = np.array([p[0],dec1]) \n",
    "        S_mut.append(p1)\n",
    "    S_mut = np.array(S_mut)\n",
    "    return S_mut"
   ]
  },
  {
   "cell_type": "markdown",
   "metadata": {},
   "source": [
    "### Main GA function"
   ]
  },
  {
   "cell_type": "code",
   "execution_count": 69,
   "metadata": {},
   "outputs": [],
   "source": [
    "def genetic_algorithm(Xmin, Xmax, m=100, ncross=50, nmut=50, maxitr=10):\n",
    "    S = np.round(initialise(Xmin, Xmax, m),2)\n",
    "    f = np.array([obj_function(x,y) for x,y in zip(np.ravel(S[:,0]),np.ravel(S[:,1]))])\n",
    "    for itr in range(maxitr):\n",
    "        S_cross = get_children_crossover(S, ncross)\n",
    "        S_mut = get_child_mutation(S, nmut)\n",
    "        S_total = np.vstack((S,S_cross,S_mut))\n",
    "        f = np.array([obj_function(x,y) for x,y in zip(np.ravel(S_total[:,0]),np.ravel(S_total[:,1]))])\n",
    "        sorted_idx = np.argsort(f)\n",
    "        S_total = S_total[sorted_idx]\n",
    "        contour_plot(obj_function, Xmin, Xmax, S, itr)\n",
    "        S = S_total[:m]\n",
    "    plt.close('all')\n",
    "    return S[0], f[0]\n"
   ]
  },
  {
   "cell_type": "code",
   "execution_count": 70,
   "metadata": {},
   "outputs": [
    {
     "data": {
      "text/plain": [
       "(array([0.95, 0.  ]), 2.5800385572706084)"
      ]
     },
     "execution_count": 70,
     "metadata": {},
     "output_type": "execute_result"
    }
   ],
   "source": [
    "Xmin = [-10,-10]; Xmax = [10,10]\n",
    "genetic_algorithm(Xmin, Xmax,m=200,ncross=50,nmut=50,maxitr=15)"
   ]
  },
  {
   "cell_type": "markdown",
   "metadata": {},
   "source": [
    "## Particle Swarm Optimisation (PSO)"
   ]
  },
  {
   "cell_type": "markdown",
   "metadata": {},
   "source": [
    "### Initialise the population"
   ]
  },
  {
   "cell_type": "code",
   "execution_count": 87,
   "metadata": {},
   "outputs": [],
   "source": [
    "def initialisation(obj_function, Xmin, Xmax, m):\n",
    "    x_1 = np.random.uniform(low=Xmin[0],high=Xmax[0],size=(m,1))\n",
    "    x_2 = np.random.uniform(low=Xmin[1],high=Xmax[1],size=(m,1))\n",
    "    x = np.hstack((x_1,x_2))\n",
    "    v = np.zeros((m,2))\n",
    "    p = x.copy()\n",
    "    f = np.array([obj_function(x,y) for x,y in zip(x_1,x_2)])\n",
    "    best_idx = np.argmin(f)\n",
    "    g = x[best_idx]\n",
    "    return x, v, p, g"
   ]
  },
  {
   "cell_type": "markdown",
   "metadata": {},
   "source": [
    "### Main PSO function"
   ]
  },
  {
   "cell_type": "code",
   "execution_count": 96,
   "metadata": {},
   "outputs": [],
   "source": [
    "def pso(obj_function, Xmin, Xmax, m=100, omega=0.1, phi_p=0.5, phi_g=0.6, maxitr=10):\n",
    "    x, v, p, g = initialisation(obj_function, Xmin, Xmax, m)\n",
    "    for itr in range(maxitr):\n",
    "        for i in range(m):\n",
    "            beta, gamma = np.random.random(), np.random.random()\n",
    "            v[i] = omega*v[i] + phi_p*beta*(p[i] - x[i]) + phi_g*gamma*(g - x[i])\n",
    "            x[i] = x[i] + v[i]\n",
    "            if obj_function(x[i,0],x[i,1]) < obj_function(p[i,0],p[i,1]):\n",
    "                p[i] = x[i]\n",
    "                if obj_function(p[i,0],p[i,1]) < obj_function(g[0],g[1]):\n",
    "                    g = p[i]\n",
    "        contour_plot(obj_function, Xmin, Xmax, x, itr)\n",
    "    plt.close('all')\n",
    "    return g, obj_function(g[0],g[1])"
   ]
  },
  {
   "cell_type": "code",
   "execution_count": 98,
   "metadata": {},
   "outputs": [
    {
     "data": {
      "text/plain": [
       "(array([2.73098154e-04, 7.26586857e-05]), 0.000801435725087174)"
      ]
     },
     "execution_count": 98,
     "metadata": {},
     "output_type": "execute_result"
    }
   ],
   "source": [
    "Xmin, Xmax = np.array([-10,-10]), np.array([10,10])\n",
    "pso(obj_function, Xmin, Xmax, m=100, omega=0.2, phi_p=0.6, phi_g=1, maxitr=10)"
   ]
  },
  {
   "cell_type": "code",
   "execution_count": 124,
   "metadata": {},
   "outputs": [],
   "source": [
    "## Himmbelblau's Function\n",
    "def my_obj_func(x,y):\n",
    "    z = (x**2+y-11)**2+(x+y**2-7)**2\n",
    "    return z "
   ]
  },
  {
   "cell_type": "code",
   "execution_count": 129,
   "metadata": {},
   "outputs": [
    {
     "data": {
      "text/plain": [
       "(array([-3.77936069, -3.28317176]), 1.770813259655041e-07)"
      ]
     },
     "execution_count": 129,
     "metadata": {},
     "output_type": "execute_result"
    }
   ],
   "source": [
    "pso(my_obj_func, Xmin, Xmax, m=100, omega=0.1, phi_p=0.6, phi_g=0.9, maxitr=10)"
   ]
  },
  {
   "cell_type": "code",
   "execution_count": null,
   "metadata": {},
   "outputs": [],
   "source": []
  }
 ],
 "metadata": {
  "kernelspec": {
   "display_name": "Python 3 (ipykernel)",
   "language": "python",
   "name": "python3"
  },
  "language_info": {
   "codemirror_mode": {
    "name": "ipython",
    "version": 3
   },
   "file_extension": ".py",
   "mimetype": "text/x-python",
   "name": "python",
   "nbconvert_exporter": "python",
   "pygments_lexer": "ipython3",
   "version": "3.10.9"
  },
  "vscode": {
   "interpreter": {
    "hash": "e0105ac9406840dc292ffde5e398b59ab58478a652bb16a9603dc66a7e7ff2c1"
   }
  }
 },
 "nbformat": 4,
 "nbformat_minor": 2
}
